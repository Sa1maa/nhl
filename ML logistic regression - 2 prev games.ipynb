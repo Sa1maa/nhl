{
 "cells": [
  {
   "cell_type": "code",
   "execution_count": 17,
   "metadata": {},
   "outputs": [
    {
     "name": "stdout",
     "output_type": "stream",
     "text": [
      "[[112 359]\n",
      " [100 494]]\n",
      "0.5690140845070423\n"
     ]
    }
   ],
   "source": [
    "# Import Libraries\n",
    "import pandas as pd\n",
    "import numpy as np\n",
    "from sklearn.model_selection import cross_val_score, LeaveOneOut\n",
    "from sklearn.metrics import accuracy_score\n",
    "\n",
    "# Importing the dataset\n",
    "df = pd.read_csv(r'C:\\Users\\ville\\Code\\NHL\\CSVs\\2013-2018-2games.csv')\n",
    "X = df.iloc[:, 4:-1] #first 4 columns are index, game_id, h_team, a_team\n",
    "y = df.iloc[:,-1]\n",
    "\n",
    "# split the data set into train and test sets\n",
    "from sklearn.model_selection import train_test_split\n",
    "X_train, X_test, y_train, y_test = train_test_split(X, y, test_size = 0.2, random_state = 0)\n",
    "\n",
    "# Feature Scaling\n",
    "from sklearn.preprocessing import StandardScaler\n",
    "sc_X = StandardScaler()\n",
    "X_train = sc_X.fit_transform(X_train)\n",
    "X_test = sc_X.transform(X_test)\n",
    "\n",
    "# Fitting Logistic Regression to the Training set\n",
    "from sklearn.linear_model import LogisticRegression\n",
    "classifier = LogisticRegression(random_state = 42)\n",
    "classifier.fit(X_train, y_train)\n",
    "\n",
    "# Predicting the Test Set results\n",
    "y_pred = classifier.predict(X_test)\n",
    "\n",
    "# Making the Confusion Matrix\n",
    "from sklearn.metrics import confusion_matrix\n",
    "cm = confusion_matrix(y_test, y_pred)\n",
    "print(cm)\n",
    "print(accuracy_score(y_test, y_pred))\n"
   ]
  },
  {
   "cell_type": "code",
   "execution_count": 18,
   "metadata": {},
   "outputs": [
    {
     "name": "stdout",
     "output_type": "stream",
     "text": [
      "Average cross-validation score: 0.55\n",
      "Number of cross validation iterations:  5322\n",
      "Average LOO accuracy: 0.55\n"
     ]
    }
   ],
   "source": [
    "# With K-fold and LeaveOneOut (preferred over the simple train/test split above)\n",
    "\n",
    "# Importing the dataset\n",
    "df = pd.read_csv(r'C:\\Users\\ville\\Code\\NHL\\CSVs\\2013-2018-2games.csv')\n",
    "X = df.iloc[:, 4:-1] #first 4 columns are index, game_id, h_team, a_team\n",
    "y = df.iloc[:,-1]\n",
    "\n",
    "# split the data set into train and test sets\n",
    "from sklearn.model_selection import train_test_split\n",
    "X_train, X_test, y_train, y_test = train_test_split(X, y, test_size = 0.2, random_state = 0)\n",
    "\n",
    "# Feature Scaling\n",
    "from sklearn.preprocessing import StandardScaler\n",
    "sc_X = StandardScaler()\n",
    "X_train = sc_X.fit_transform(X_train)\n",
    "X_test = sc_X.transform(X_test)\n",
    "\n",
    "# Fitting Logistic Regression to the Training set\n",
    "from sklearn.linear_model import LogisticRegression\n",
    "classifier = LogisticRegression(random_state = 42)\n",
    "classifier.fit(X_train, y_train)\n",
    "\n",
    "# Predicting the Test Set results\n",
    "y_pred = classifier.predict(X_test)\n",
    "\n",
    "# K-fold score\n",
    "scores = cross_val_score(classifier, X, y, cv = 10)\n",
    "print(\"Average cross-validation score: {:.3f}\".format(scores.mean()))\n",
    "\n",
    "# Leave One Out\n",
    "loo = LeaveOneOut()\n",
    "scores = cross_val_score(classifier, X, y, cv = loo)\n",
    "print(\"Number of cross validation iterations: \", (len(scores)))\n",
    "print(\"Average LOO accuracy: {:.3f}\".format(scores.mean()))"
   ]
  },
  {
   "cell_type": "code",
   "execution_count": null,
   "metadata": {},
   "outputs": [],
   "source": []
  }
 ],
 "metadata": {
  "kernelspec": {
   "display_name": "Python 3",
   "language": "python",
   "name": "python3"
  },
  "language_info": {
   "codemirror_mode": {
    "name": "ipython",
    "version": 3
   },
   "file_extension": ".py",
   "mimetype": "text/x-python",
   "name": "python",
   "nbconvert_exporter": "python",
   "pygments_lexer": "ipython3",
   "version": "3.7.2"
  },
  "varInspector": {
   "cols": {
    "lenName": 16,
    "lenType": 16,
    "lenVar": 40
   },
   "kernels_config": {
    "python": {
     "delete_cmd_postfix": "",
     "delete_cmd_prefix": "del ",
     "library": "var_list.py",
     "varRefreshCmd": "print(var_dic_list())"
    },
    "r": {
     "delete_cmd_postfix": ") ",
     "delete_cmd_prefix": "rm(",
     "library": "var_list.r",
     "varRefreshCmd": "cat(var_dic_list()) "
    }
   },
   "types_to_exclude": [
    "module",
    "function",
    "builtin_function_or_method",
    "instance",
    "_Feature"
   ],
   "window_display": false
  }
 },
 "nbformat": 4,
 "nbformat_minor": 2
}
