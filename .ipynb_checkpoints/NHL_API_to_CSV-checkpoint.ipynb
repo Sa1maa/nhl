{
 "cells": [
  {
   "cell_type": "markdown",
   "metadata": {},
   "source": [
    "### NHL API's boxscore endpoint to a Pandas DataFrame\n",
    "\n",
    "Example URL for a single game: https://statsapi.web.nhl.com/api/v1/game/2017020001/boxscore.\n",
    "Where in 2017020001:\n",
    "* first 4 digits are the year (2017-2018 season)\n",
    "* next 2 digits are the type of season (02 for regular season)\n",
    "* and the 4 last digits are the Game ID ranging from 0001 to 1271 (for the seasons starting from 2017 w 31 teams)\n",
    "* Number of games was 1230 from 2000 until 2016-2017\n",
    "\n",
    "Runtime for one season is 13-14 minutes"
   ]
  },
  {
   "cell_type": "code",
   "execution_count": 6,
   "metadata": {},
   "outputs": [],
   "source": [
    "import requests\n",
    "import pandas as pd\n",
    "import csv\n",
    "\n",
    "pd.set_option('display.max_rows', 20)\n",
    "pd.set_option('display.max_columns', 12)\n",
    "pd.set_option('display.width', 1000)"
   ]
  },
  {
   "cell_type": "code",
   "execution_count": 7,
   "metadata": {},
   "outputs": [],
   "source": [
    "#===returns a DF with team related data such as team name abbreviation and team ID ===============#\n",
    "def teamData():\n",
    "    response = requests.get('https://statsapi.web.nhl.com/api/v1/teams')\n",
    "    dict_data = response.json()\n",
    "    teams = dict_data['teams']          #chooses the 'teams' dictionary\n",
    "\n",
    "    all_teams = []\n",
    "    for team in teams:\n",
    "        team_data = []\n",
    "        team_id = team['id']\n",
    "        # team_name = team['name']\n",
    "        team_abbr = team['abbreviation']\n",
    "        team_data.extend([team_id, team_abbr])\n",
    "        all_teams.append(team_data)\n",
    "        \n",
    "    headers = ['t_id', 't_abbr']\n",
    "    teamData_df = pd.DataFrame(all_teams, columns = headers)\n",
    "    \n",
    "    return teamData_df"
   ]
  },
  {
   "cell_type": "code",
   "execution_count": 8,
   "metadata": {},
   "outputs": [],
   "source": [
    "#===returns the full \"box score\" for all regular season games. Has to be done separately for all seasons. ==============#\n",
    "def boxscore():\n",
    "    full_game_list = []\n",
    "    game_ids = []\n",
    "    \n",
    "    # 2013-2017: 1230 games\n",
    "    # 2017 - 2020 1271 games\n",
    "    for game_id in range(2013020001, 2013021231):\n",
    "        url = 'https://statsapi.web.nhl.com/api/v1/game/{}/boxscore'.format(game_id)\n",
    "        request = requests.get(url)\n",
    "        dict_data = request.json()\n",
    "        \n",
    "        one_game = []\n",
    "        game_id = game_id\n",
    "        h_id = dict_data['teams']['home']['team']['id']\n",
    "        a_id = dict_data['teams']['away']['team']['id']\n",
    "        h_goals = dict_data['teams']['home']['teamStats']['teamSkaterStats']['goals']\n",
    "        a_goals = dict_data['teams']['away']['teamStats']['teamSkaterStats']['goals']\n",
    "        h_pim = dict_data['teams']['home']['teamStats']['teamSkaterStats']['pim']\n",
    "        a_pim = dict_data['teams']['away']['teamStats']['teamSkaterStats']['pim']\n",
    "        h_shots = dict_data['teams']['home']['teamStats']['teamSkaterStats']['shots']\n",
    "        a_shots = dict_data['teams']['away']['teamStats']['teamSkaterStats']['shots']\n",
    "        h_PP_pct = dict_data['teams']['home']['teamStats']['teamSkaterStats']['powerPlayPercentage']\n",
    "        a_PP_pct = dict_data['teams']['away']['teamStats']['teamSkaterStats']['powerPlayPercentage']\n",
    "        h_PPG = dict_data['teams']['home']['teamStats']['teamSkaterStats']['powerPlayGoals']\n",
    "        a_PPG = dict_data['teams']['away']['teamStats']['teamSkaterStats']['powerPlayGoals']\n",
    "        h_PP_oppt = dict_data['teams']['home']['teamStats']['teamSkaterStats']['powerPlayOpportunities']\n",
    "        a_PP_oppt = dict_data['teams']['away']['teamStats']['teamSkaterStats']['powerPlayOpportunities']\n",
    "        h_FO_win_pct = dict_data['teams']['home']['teamStats']['teamSkaterStats']['faceOffWinPercentage']\n",
    "        a_FO_win_pct = dict_data['teams']['away']['teamStats']['teamSkaterStats']['faceOffWinPercentage']\n",
    "        h_blocked = dict_data['teams']['home']['teamStats']['teamSkaterStats']['blocked']\n",
    "        a_blocked = dict_data['teams']['away']['teamStats']['teamSkaterStats']['blocked']\n",
    "        h_takeaways = dict_data['teams']['home']['teamStats']['teamSkaterStats']['takeaways']\n",
    "        a_takeaways = dict_data['teams']['away']['teamStats']['teamSkaterStats']['takeaways']\n",
    "        h_giveaways = dict_data['teams']['home']['teamStats']['teamSkaterStats']['giveaways']\n",
    "        a_giveaways = dict_data['teams']['away']['teamStats']['teamSkaterStats']['giveaways']\n",
    "        h_hits = dict_data['teams']['home']['teamStats']['teamSkaterStats']['hits']\n",
    "        a_hits = dict_data['teams']['away']['teamStats']['teamSkaterStats']['hits']\n",
    "        \n",
    "        \n",
    "        one_game.extend([game_id, h_id, a_id,h_goals, a_goals, h_pim, a_pim, h_shots, a_shots, h_PP_pct,\\\n",
    "                         a_PP_pct, h_PPG, a_PPG, h_PP_oppt, a_PP_oppt, h_FO_win_pct, a_FO_win_pct,\\\n",
    "                         h_blocked, a_blocked, h_takeaways, a_takeaways, h_giveaways, a_giveaways, h_hits, a_hits])\n",
    "        full_game_list.append(one_game)\n",
    "        game_ids.append(game_id) #might not need this list\n",
    "\n",
    "    bs_df = pd.DataFrame(full_game_list, columns=\\\n",
    "                      ['game_id','h_id', 'a_id','h_goals', 'a_goals', 'h_pim', 'a_pim', 'h_shots', 'a_shots', 'h_PP_pct',\\\n",
    "                       'a_PP_pct', 'h_PPG', 'a_PPG', 'h_PP_oppt', 'a_PP_oppt', 'h_FO_pct', 'a_FO_pct',\\\n",
    "                       'h_blocked', 'a_blocked', 'h_tAways', 'a_tAways', 'h_gAways', 'a_gAways', 'h_hits', 'a_hits'])\n",
    "\n",
    "    return bs_df"
   ]
  },
  {
   "cell_type": "code",
   "execution_count": 9,
   "metadata": {},
   "outputs": [],
   "source": [
    "#=========Merges team data with box score to get team names and abbrvs to box score===========#\n",
    "def merge_dfs(bs_df, team_df):\n",
    "    merged_df = bs_df.merge(team_df, left_on = 'a_id', right_on = 't_id').\\\n",
    "                merge(team_df, left_on = 'h_id', right_on = 't_id').\\\n",
    "                drop(['t_id_x', 't_id_y'], axis = 1)\n",
    "    \n",
    "    merged_df = merged_df.rename(columns={'t_abbr_x': 'a_abbr', 't_abbr_y': 'h_abbr'})\n",
    "\n",
    "    \n",
    "    merged_df = merged_df[['game_id', 'h_id', 'h_abbr', 'a_id', 'a_abbr','h_goals', 'a_goals', 'h_pim', 'a_pim', 'h_shots', 'a_shots', 'h_PP_pct',\\\n",
    "                       'a_PP_pct', 'h_PPG', 'a_PPG', 'h_PP_oppt', 'a_PP_oppt', 'h_FO_pct', 'a_FO_pct',\\\n",
    "                       'h_blocked', 'a_blocked', 'h_tAways', 'a_tAways', 'h_gAways', 'a_gAways', 'h_hits', 'a_hits']]\n",
    "    \n",
    "    merged_df.set_index('game_id', drop=True, inplace=True) #DONT DROP? (default = True)\n",
    "    return merged_df\n"
   ]
  },
  {
   "cell_type": "code",
   "execution_count": 10,
   "metadata": {},
   "outputs": [],
   "source": [
    "#===================DataFrame to a CSV ====================================#\n",
    "\n",
    "def df_to_csv(df):\n",
    "    df.to_csv(r'C:\\Users\\ville\\Code\\NHL\\CSVs\\2013-2014-1208.csv')"
   ]
  },
  {
   "cell_type": "code",
   "execution_count": null,
   "metadata": {},
   "outputs": [],
   "source": [
    "def main():\n",
    "    team_df = teamData()\n",
    "    bs_df = boxscore()\n",
    "    df = merge_dfs(bs_df, team_df)\n",
    "    df_to_csv(df)\n",
    "    return df\n",
    "\n",
    "main()"
   ]
  },
  {
   "cell_type": "code",
   "execution_count": null,
   "metadata": {},
   "outputs": [],
   "source": []
  }
 ],
 "metadata": {
  "kernelspec": {
   "display_name": "Python 3",
   "language": "python",
   "name": "python3"
  },
  "language_info": {
   "codemirror_mode": {
    "name": "ipython",
    "version": 3
   },
   "file_extension": ".py",
   "mimetype": "text/x-python",
   "name": "python",
   "nbconvert_exporter": "python",
   "pygments_lexer": "ipython3",
   "version": "3.7.2"
  },
  "varInspector": {
   "cols": {
    "lenName": 16,
    "lenType": 16,
    "lenVar": 40
   },
   "kernels_config": {
    "python": {
     "delete_cmd_postfix": "",
     "delete_cmd_prefix": "del ",
     "library": "var_list.py",
     "varRefreshCmd": "print(var_dic_list())"
    },
    "r": {
     "delete_cmd_postfix": ") ",
     "delete_cmd_prefix": "rm(",
     "library": "var_list.r",
     "varRefreshCmd": "cat(var_dic_list()) "
    }
   },
   "types_to_exclude": [
    "module",
    "function",
    "builtin_function_or_method",
    "instance",
    "_Feature"
   ],
   "window_display": false
  }
 },
 "nbformat": 4,
 "nbformat_minor": 2
}
